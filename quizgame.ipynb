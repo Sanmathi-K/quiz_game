{
 "cells": [
  {
   "cell_type": "code",
   "execution_count": null,
   "metadata": {},
   "outputs": [],
   "source": [
    "print(\"Welcome to my computer quiz!\")\n",
    "playing = input(\"Do you want to play? \")\n",
    "if playing.lower()!=\"yes\":\n",
    "    quit()\n",
    "print(\"Okay! Let's play :)\")\n",
    "score=0\n",
    "answer=input(\"What does CPU stand for? \")\n",
    "if answer.lower()==\"central processing unit\":\n",
    "    print('Correct!')\n",
    "    score+=1\n",
    "else:\n",
    "    print(\"Incorrect!\")\n",
    "answer = input(\"What does GPU stand for? \")\n",
    "if answer.lower()==\"graphics processing unit\":\n",
    "    print('Correct!')\n",
    "    score+=1\n",
    "else:\n",
    "    print(\"Incorrect!\")\n",
    "answer = input(\"What does RAM stand for? \")\n",
    "if answer.lower()==\"random access memory\":\n",
    "    print('Correct!')\n",
    "    score+=1\n",
    "else:\n",
    "    print(\"Incorrect!\")\n",
    "answer = input(\"What does PSU stand for? \")\n",
    "if answer.lower()==\"power supply\":\n",
    "    print('Correct!')\n",
    "    score += 1\n",
    "else:\n",
    "    print(\"Incorrect!\")\n",
    "print(\"You got \"+str(score)+\" questions correct!\")\n",
    "print(\"You got \"+str((score/4)*100)+\"%.\")"
   ]
  }
 ],
 "metadata": {
  "language_info": {
   "name": "python"
  }
 },
 "nbformat": 4,
 "nbformat_minor": 2
}
